{
 "cells": [
  {
   "attachments": {},
   "cell_type": "markdown",
   "metadata": {},
   "source": [
    "Este es un archivo de prueba, sin actividades =) .\n",
    "\n",
    "A partir del próximo módulo: M03_variablesydatos vas a tener actividades para realizar."
   ]
  },
  {
   "cell_type": "code",
   "execution_count": 34,
   "metadata": {},
   "outputs": [
    {
     "name": "stdout",
     "output_type": "stream",
     "text": [
      "Hola Mundo!\n",
      "3 18\n",
      "5 20\n",
      "7 22\n",
      "9 24\n",
      "11 26\n",
      "13 28\n",
      "15 30\n"
     ]
    }
   ],
   "source": [
    "print('Hola Mundo!')\n",
    "a = 3\n",
    "b = 15\n",
    "while a <= b:\n",
    "    c = a + b\n",
    "    print(f\"{a} {c}\")\n",
    "    a += 2"
   ]
  }
 ],
 "metadata": {
  "kernelspec": {
   "display_name": "Python 3",
   "language": "python",
   "name": "python3"
  },
  "language_info": {
   "codemirror_mode": {
    "name": "ipython",
    "version": 3
   },
   "file_extension": ".py",
   "mimetype": "text/x-python",
   "name": "python",
   "nbconvert_exporter": "python",
   "pygments_lexer": "ipython3",
   "version": "3.12.5"
  },
  "orig_nbformat": 4
 },
 "nbformat": 4,
 "nbformat_minor": 2
}
